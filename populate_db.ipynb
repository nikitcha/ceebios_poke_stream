{
 "cells": [
  {
   "cell_type": "code",
   "execution_count": 50,
   "id": "presidential-excess",
   "metadata": {},
   "outputs": [],
   "source": [
    "import sqlite3\n",
    "import pandas\n",
    "conn = sqlite3.connect('gbif.db', check_same_thread=False)\n",
    "from tqdm.notebook import tqdm\n",
    "import numpy\n",
    "from neo4j import GraphDatabase\n"
   ]
  },
  {
   "cell_type": "code",
   "execution_count": 61,
   "id": "potential-jefferson",
   "metadata": {},
   "outputs": [],
   "source": [
    "conn.execute(\n",
    "    \"\"\"DROP TABLE IF EXISTS reference\"\"\"\n",
    ")\n",
    "conn.commit()"
   ]
  },
  {
   "cell_type": "code",
   "execution_count": 2,
   "id": "fabulous-reconstruction",
   "metadata": {
    "tags": []
   },
   "outputs": [],
   "source": [
    "filepath = r'C:\\Users\\niki\\Data\\Ceebios\\backbone-current\\Taxon.tsv'\n",
    "taxon = pandas.read_table(filepath)\n",
    "taxon.to_sql('taxon',conn)"
   ]
  },
  {
   "cell_type": "code",
   "execution_count": 4,
   "id": "efficient-nightlife",
   "metadata": {},
   "outputs": [
    {
     "name": "stderr",
     "output_type": "stream",
     "text": [
      "c:\\users\\niki\\environments\\ceebios\\lib\\site-packages\\IPython\\core\\interactiveshell.py:3166: DtypeWarning: Columns (3,4) have mixed types.Specify dtype option on import or set low_memory=False.\n",
      "  interactivity=interactivity, compiler=compiler, result=result)\n"
     ]
    }
   ],
   "source": [
    "filepath = r'C:\\Users\\niki\\Data\\Ceebios\\backbone-current\\VernacularName.tsv'\n",
    "vernacular = pandas.read_table(filepath)\n",
    "vernacular.to_sql('vernacular',conn)"
   ]
  },
  {
   "cell_type": "code",
   "execution_count": 239,
   "id": "front-attitude",
   "metadata": {},
   "outputs": [
    {
     "name": "stderr",
     "output_type": "stream",
     "text": [
      "c:\\users\\niki\\environments\\ceebios\\lib\\site-packages\\IPython\\core\\interactiveshell.py:3166: DtypeWarning: Columns (9) have mixed types.Specify dtype option on import or set low_memory=False.\n",
      "  interactivity=interactivity, compiler=compiler, result=result)\n"
     ]
    }
   ],
   "source": [
    "filepath = r'C:\\Users\\niki\\Data\\Ceebios\\backbone-current\\Distribution.tsv'\n",
    "distribution = pandas.read_table(filepath)\n",
    "#distribution.to_sql('distribution',conn)"
   ]
  },
  {
   "cell_type": "code",
   "execution_count": 229,
   "id": "twenty-howard",
   "metadata": {},
   "outputs": [
    {
     "name": "stderr",
     "output_type": "stream",
     "text": [
      "c:\\users\\niki\\environments\\ceebios\\lib\\site-packages\\IPython\\core\\interactiveshell.py:3166: DtypeWarning: Columns (4,6,7,9,10) have mixed types.Specify dtype option on import or set low_memory=False.\n",
      "  interactivity=interactivity, compiler=compiler, result=result)\n"
     ]
    }
   ],
   "source": [
    "filepath = r'C:\\Users\\niki\\Data\\Ceebios\\backbone-current\\Multimedia.tsv'\n",
    "multimedia = pandas.read_table(filepath)\n",
    "#multimedia.to_sql('multimedia',conn)"
   ]
  },
  {
   "cell_type": "code",
   "execution_count": 59,
   "id": "brown-orange",
   "metadata": {},
   "outputs": [
    {
     "name": "stderr",
     "output_type": "stream",
     "text": [
      "c:\\users\\niki\\environments\\ceebios\\lib\\site-packages\\IPython\\core\\interactiveshell.py:3166: DtypeWarning: Columns (2) have mixed types.Specify dtype option on import or set low_memory=False.\n",
      "  interactivity=interactivity, compiler=compiler, result=result)\n"
     ]
    }
   ],
   "source": [
    "filepath = r'C:\\Users\\niki\\Data\\Ceebios\\backbone-current\\Reference.tsv'\n",
    "reference = pandas.read_table(filepath)\n",
    "reference.to_sql('reference',conn)"
   ]
  },
  {
   "cell_type": "code",
   "execution_count": 60,
   "id": "inside-treasury",
   "metadata": {},
   "outputs": [
    {
     "data": {
      "text/html": [
       "<div>\n",
       "<style scoped>\n",
       "    .dataframe tbody tr th:only-of-type {\n",
       "        vertical-align: middle;\n",
       "    }\n",
       "\n",
       "    .dataframe tbody tr th {\n",
       "        vertical-align: top;\n",
       "    }\n",
       "\n",
       "    .dataframe thead th {\n",
       "        text-align: right;\n",
       "    }\n",
       "</style>\n",
       "<table border=\"1\" class=\"dataframe\">\n",
       "  <thead>\n",
       "    <tr style=\"text-align: right;\">\n",
       "      <th></th>\n",
       "      <th>taxonID</th>\n",
       "      <th>bibliographicCitation</th>\n",
       "      <th>identifier</th>\n",
       "      <th>references</th>\n",
       "      <th>source</th>\n",
       "    </tr>\n",
       "  </thead>\n",
       "  <tbody>\n",
       "    <tr>\n",
       "      <th>0</th>\n",
       "      <td>2227518</td>\n",
       "      <td>CoL2006</td>\n",
       "      <td>NaN</td>\n",
       "      <td>NaN</td>\n",
       "      <td>The Interim Register of Marine and Nonmarine G...</td>\n",
       "    </tr>\n",
       "    <tr>\n",
       "      <th>1</th>\n",
       "      <td>2227518</td>\n",
       "      <td>De Grave, S., Pentcheff, N.D., Ahyong, S.T., C...</td>\n",
       "      <td>NaN</td>\n",
       "      <td>NaN</td>\n",
       "      <td>The Interim Register of Marine and Nonmarine G...</td>\n",
       "    </tr>\n",
       "    <tr>\n",
       "      <th>2</th>\n",
       "      <td>2227518</td>\n",
       "      <td>De Grave, S., Pentcheff, N.D., Ahyong, S.T., C...</td>\n",
       "      <td>NaN</td>\n",
       "      <td>NaN</td>\n",
       "      <td>The Interim Register of Marine and Nonmarine G...</td>\n",
       "    </tr>\n",
       "    <tr>\n",
       "      <th>3</th>\n",
       "      <td>2227518</td>\n",
       "      <td>De Grave, S., Pentcheff, N.D., Ahyong, S.T., C...</td>\n",
       "      <td>NaN</td>\n",
       "      <td>NaN</td>\n",
       "      <td>The Interim Register of Marine and Nonmarine G...</td>\n",
       "    </tr>\n",
       "    <tr>\n",
       "      <th>4</th>\n",
       "      <td>2227518</td>\n",
       "      <td>Nomenclator Zoologicus (authority adjusted)</td>\n",
       "      <td>NaN</td>\n",
       "      <td>NaN</td>\n",
       "      <td>The Interim Register of Marine and Nonmarine G...</td>\n",
       "    </tr>\n",
       "  </tbody>\n",
       "</table>\n",
       "</div>"
      ],
      "text/plain": [
       "   taxonID                              bibliographicCitation identifier  \\\n",
       "0  2227518                                            CoL2006        NaN   \n",
       "1  2227518  De Grave, S., Pentcheff, N.D., Ahyong, S.T., C...        NaN   \n",
       "2  2227518  De Grave, S., Pentcheff, N.D., Ahyong, S.T., C...        NaN   \n",
       "3  2227518  De Grave, S., Pentcheff, N.D., Ahyong, S.T., C...        NaN   \n",
       "4  2227518        Nomenclator Zoologicus (authority adjusted)        NaN   \n",
       "\n",
       "   references                                             source  \n",
       "0         NaN  The Interim Register of Marine and Nonmarine G...  \n",
       "1         NaN  The Interim Register of Marine and Nonmarine G...  \n",
       "2         NaN  The Interim Register of Marine and Nonmarine G...  \n",
       "3         NaN  The Interim Register of Marine and Nonmarine G...  \n",
       "4         NaN  The Interim Register of Marine and Nonmarine G...  "
      ]
     },
     "execution_count": 60,
     "metadata": {},
     "output_type": "execute_result"
    }
   ],
   "source": [
    "reference.head()\n"
   ]
  },
  {
   "cell_type": "code",
   "execution_count": 8,
   "id": "pressing-numbers",
   "metadata": {},
   "outputs": [
    {
     "data": {
      "text/html": [
       "<div>\n",
       "<style scoped>\n",
       "    .dataframe tbody tr th:only-of-type {\n",
       "        vertical-align: middle;\n",
       "    }\n",
       "\n",
       "    .dataframe tbody tr th {\n",
       "        vertical-align: top;\n",
       "    }\n",
       "\n",
       "    .dataframe thead th {\n",
       "        text-align: right;\n",
       "    }\n",
       "</style>\n",
       "<table border=\"1\" class=\"dataframe\">\n",
       "  <thead>\n",
       "    <tr style=\"text-align: right;\">\n",
       "      <th></th>\n",
       "      <th>taxonID</th>\n",
       "      <th>datasetID</th>\n",
       "      <th>parentNameUsageID</th>\n",
       "      <th>acceptedNameUsageID</th>\n",
       "      <th>originalNameUsageID</th>\n",
       "      <th>scientificName</th>\n",
       "      <th>scientificNameAuthorship</th>\n",
       "      <th>canonicalName</th>\n",
       "      <th>genericName</th>\n",
       "      <th>specificEpithet</th>\n",
       "      <th>...</th>\n",
       "      <th>namePublishedIn</th>\n",
       "      <th>taxonomicStatus</th>\n",
       "      <th>nomenclaturalStatus</th>\n",
       "      <th>taxonRemarks</th>\n",
       "      <th>kingdom</th>\n",
       "      <th>phylum</th>\n",
       "      <th>class</th>\n",
       "      <th>order</th>\n",
       "      <th>family</th>\n",
       "      <th>genus</th>\n",
       "    </tr>\n",
       "  </thead>\n",
       "  <tbody>\n",
       "    <tr>\n",
       "      <th>0</th>\n",
       "      <td>1162096</td>\n",
       "      <td>7ddf754f-d193-4cc9-b351-99906754a03b</td>\n",
       "      <td>1162079.0</td>\n",
       "      <td>NaN</td>\n",
       "      <td>NaN</td>\n",
       "      <td>Eopenthes deceptor Sharp, 1908</td>\n",
       "      <td>Sharp, 1908</td>\n",
       "      <td>Eopenthes deceptor</td>\n",
       "      <td>Eopenthes</td>\n",
       "      <td>deceptor</td>\n",
       "      <td>...</td>\n",
       "      <td>NaN</td>\n",
       "      <td>accepted</td>\n",
       "      <td>NaN</td>\n",
       "      <td>NaN</td>\n",
       "      <td>Animalia</td>\n",
       "      <td>Arthropoda</td>\n",
       "      <td>Insecta</td>\n",
       "      <td>Coleoptera</td>\n",
       "      <td>Elateridae</td>\n",
       "      <td>Eopenthes</td>\n",
       "    </tr>\n",
       "    <tr>\n",
       "      <th>1</th>\n",
       "      <td>1162114</td>\n",
       "      <td>7ddf754f-d193-4cc9-b351-99906754a03b</td>\n",
       "      <td>1162079.0</td>\n",
       "      <td>NaN</td>\n",
       "      <td>NaN</td>\n",
       "      <td>Eopenthes basalis Sharp, 1885</td>\n",
       "      <td>Sharp, 1885</td>\n",
       "      <td>Eopenthes basalis</td>\n",
       "      <td>Eopenthes</td>\n",
       "      <td>basalis</td>\n",
       "      <td>...</td>\n",
       "      <td>NaN</td>\n",
       "      <td>accepted</td>\n",
       "      <td>NaN</td>\n",
       "      <td>NaN</td>\n",
       "      <td>Animalia</td>\n",
       "      <td>Arthropoda</td>\n",
       "      <td>Insecta</td>\n",
       "      <td>Coleoptera</td>\n",
       "      <td>Elateridae</td>\n",
       "      <td>Eopenthes</td>\n",
       "    </tr>\n",
       "    <tr>\n",
       "      <th>2</th>\n",
       "      <td>1741665</td>\n",
       "      <td>7ddf754f-d193-4cc9-b351-99906754a03b</td>\n",
       "      <td>1741585.0</td>\n",
       "      <td>NaN</td>\n",
       "      <td>NaN</td>\n",
       "      <td>Cochylis psychrasema Meyrick, 1937</td>\n",
       "      <td>Meyrick, 1937</td>\n",
       "      <td>Cochylis psychrasema</td>\n",
       "      <td>Cochylis</td>\n",
       "      <td>psychrasema</td>\n",
       "      <td>...</td>\n",
       "      <td>NaN</td>\n",
       "      <td>accepted</td>\n",
       "      <td>NaN</td>\n",
       "      <td>NaN</td>\n",
       "      <td>Animalia</td>\n",
       "      <td>Arthropoda</td>\n",
       "      <td>Insecta</td>\n",
       "      <td>Lepidoptera</td>\n",
       "      <td>Tortricidae</td>\n",
       "      <td>Cochylis</td>\n",
       "    </tr>\n",
       "    <tr>\n",
       "      <th>3</th>\n",
       "      <td>1741670</td>\n",
       "      <td>7ddf754f-d193-4cc9-b351-99906754a03b</td>\n",
       "      <td>1741585.0</td>\n",
       "      <td>NaN</td>\n",
       "      <td>NaN</td>\n",
       "      <td>Cochylis sagittigera Razowski &amp; Becker, 1983</td>\n",
       "      <td>Razowski &amp; Becker, 1983</td>\n",
       "      <td>Cochylis sagittigera</td>\n",
       "      <td>Cochylis</td>\n",
       "      <td>sagittigera</td>\n",
       "      <td>...</td>\n",
       "      <td>NaN</td>\n",
       "      <td>accepted</td>\n",
       "      <td>NaN</td>\n",
       "      <td>NaN</td>\n",
       "      <td>Animalia</td>\n",
       "      <td>Arthropoda</td>\n",
       "      <td>Insecta</td>\n",
       "      <td>Lepidoptera</td>\n",
       "      <td>Tortricidae</td>\n",
       "      <td>Cochylis</td>\n",
       "    </tr>\n",
       "    <tr>\n",
       "      <th>4</th>\n",
       "      <td>1782495</td>\n",
       "      <td>7ddf754f-d193-4cc9-b351-99906754a03b</td>\n",
       "      <td>1782493.0</td>\n",
       "      <td>NaN</td>\n",
       "      <td>NaN</td>\n",
       "      <td>Baputa dichroa Kirsch, 1877</td>\n",
       "      <td>Kirsch, 1877</td>\n",
       "      <td>Baputa dichroa</td>\n",
       "      <td>Baputa</td>\n",
       "      <td>dichroa</td>\n",
       "      <td>...</td>\n",
       "      <td>NaN</td>\n",
       "      <td>accepted</td>\n",
       "      <td>NaN</td>\n",
       "      <td>NaN</td>\n",
       "      <td>Animalia</td>\n",
       "      <td>Arthropoda</td>\n",
       "      <td>Insecta</td>\n",
       "      <td>Lepidoptera</td>\n",
       "      <td>Noctuidae</td>\n",
       "      <td>Baputa</td>\n",
       "    </tr>\n",
       "  </tbody>\n",
       "</table>\n",
       "<p>5 rows × 23 columns</p>\n",
       "</div>"
      ],
      "text/plain": [
       "   taxonID                             datasetID  parentNameUsageID  \\\n",
       "0  1162096  7ddf754f-d193-4cc9-b351-99906754a03b          1162079.0   \n",
       "1  1162114  7ddf754f-d193-4cc9-b351-99906754a03b          1162079.0   \n",
       "2  1741665  7ddf754f-d193-4cc9-b351-99906754a03b          1741585.0   \n",
       "3  1741670  7ddf754f-d193-4cc9-b351-99906754a03b          1741585.0   \n",
       "4  1782495  7ddf754f-d193-4cc9-b351-99906754a03b          1782493.0   \n",
       "\n",
       "   acceptedNameUsageID  originalNameUsageID  \\\n",
       "0                  NaN                  NaN   \n",
       "1                  NaN                  NaN   \n",
       "2                  NaN                  NaN   \n",
       "3                  NaN                  NaN   \n",
       "4                  NaN                  NaN   \n",
       "\n",
       "                                 scientificName scientificNameAuthorship  \\\n",
       "0                Eopenthes deceptor Sharp, 1908              Sharp, 1908   \n",
       "1                 Eopenthes basalis Sharp, 1885              Sharp, 1885   \n",
       "2            Cochylis psychrasema Meyrick, 1937            Meyrick, 1937   \n",
       "3  Cochylis sagittigera Razowski & Becker, 1983  Razowski & Becker, 1983   \n",
       "4                   Baputa dichroa Kirsch, 1877             Kirsch, 1877   \n",
       "\n",
       "          canonicalName genericName specificEpithet  ... namePublishedIn  \\\n",
       "0    Eopenthes deceptor   Eopenthes        deceptor  ...             NaN   \n",
       "1     Eopenthes basalis   Eopenthes         basalis  ...             NaN   \n",
       "2  Cochylis psychrasema    Cochylis     psychrasema  ...             NaN   \n",
       "3  Cochylis sagittigera    Cochylis     sagittigera  ...             NaN   \n",
       "4        Baputa dichroa      Baputa         dichroa  ...             NaN   \n",
       "\n",
       "  taxonomicStatus  nomenclaturalStatus taxonRemarks   kingdom      phylum  \\\n",
       "0        accepted                  NaN          NaN  Animalia  Arthropoda   \n",
       "1        accepted                  NaN          NaN  Animalia  Arthropoda   \n",
       "2        accepted                  NaN          NaN  Animalia  Arthropoda   \n",
       "3        accepted                  NaN          NaN  Animalia  Arthropoda   \n",
       "4        accepted                  NaN          NaN  Animalia  Arthropoda   \n",
       "\n",
       "     class        order       family      genus  \n",
       "0  Insecta   Coleoptera   Elateridae  Eopenthes  \n",
       "1  Insecta   Coleoptera   Elateridae  Eopenthes  \n",
       "2  Insecta  Lepidoptera  Tortricidae   Cochylis  \n",
       "3  Insecta  Lepidoptera  Tortricidae   Cochylis  \n",
       "4  Insecta  Lepidoptera    Noctuidae     Baputa  \n",
       "\n",
       "[5 rows x 23 columns]"
      ]
     },
     "execution_count": 8,
     "metadata": {},
     "output_type": "execute_result"
    }
   ],
   "source": [
    "taxon.head()"
   ]
  },
  {
   "cell_type": "code",
   "execution_count": 13,
   "id": "stuck-latvia",
   "metadata": {},
   "outputs": [],
   "source": [
    "species = taxon[taxon['taxonRank'].isin(['form','variety','subspecies','species'])]"
   ]
  },
  {
   "cell_type": "code",
   "execution_count": 57,
   "id": "romance-monday",
   "metadata": {},
   "outputs": [],
   "source": [
    "species = species[~species['canonicalName'].isna()]\n",
    "species = species[species['taxonomicStatus']=='accepted']\n"
   ]
  },
  {
   "cell_type": "code",
   "execution_count": 58,
   "id": "protecting-blanket",
   "metadata": {},
   "outputs": [],
   "source": [
    "groups = species.groupby(['genus']).count()"
   ]
  },
  {
   "cell_type": "code",
   "execution_count": 59,
   "id": "played-statistics",
   "metadata": {},
   "outputs": [],
   "source": [
    "data = groups['taxonID'].values"
   ]
  },
  {
   "cell_type": "code",
   "execution_count": 61,
   "id": "studied-locking",
   "metadata": {},
   "outputs": [
    {
     "data": {
      "image/png": "[encoded data removed]",
      "text/plain": [
       "<Figure size 432x288 with 1 Axes>"
      ]
     },
     "metadata": {
      "needs_background": "light"
     },
     "output_type": "display_data"
    }
   ],
   "source": [
    "plt.plot(data)\n",
    "plt.grid()\n",
    "plt.title('Number of Species by Genus');"
   ]
  },
  {
   "cell_type": "code",
   "execution_count": 62,
   "id": "reserved-concord",
   "metadata": {},
   "outputs": [
    {
     "data": {
      "text/plain": [
       "11.50714714351706"
      ]
     },
     "execution_count": 62,
     "metadata": {},
     "output_type": "execute_result"
    }
   ],
   "source": [
    "np.mean(data)"
   ]
  },
  {
   "cell_type": "code",
   "execution_count": 63,
   "id": "entertaining-twelve",
   "metadata": {},
   "outputs": [
    {
     "data": {
      "text/plain": [
       "60.23432892005626"
      ]
     },
     "execution_count": 63,
     "metadata": {},
     "output_type": "execute_result"
    }
   ],
   "source": [
    "np.std(data)"
   ]
  },
  {
   "cell_type": "code",
   "execution_count": 56,
   "id": "corrected-liverpool",
   "metadata": {},
   "outputs": [
    {
     "data": {
      "text/plain": [
       "array(['accepted', 'doubtful', 'synonym', 'misapplied',\n",
       "       'homotypic synonym', 'heterotypic synonym', 'proparte synonym'],\n",
       "      dtype=object)"
      ]
     },
     "execution_count": 56,
     "metadata": {},
     "output_type": "execute_result"
    }
   ],
   "source": [
    "taxon['taxonomicStatus'].unique()"
   ]
  },
  {
   "cell_type": "markdown",
   "id": "occupational-grave",
   "metadata": {},
   "source": [
    "## Neo4j"
   ]
  },
  {
   "cell_type": "code",
   "execution_count": 164,
   "id": "compact-alberta",
   "metadata": {},
   "outputs": [],
   "source": [
    "thisdata = [taxon[taxon['parentNameUsageID']==4490]]\n",
    "ok = True\n",
    "while ok:\n",
    "    ut = thisdata[-1]['taxonID'].unique()\n",
    "    subdata = [taxon[taxon['parentNameUsageID']==t] for t in ut]\n",
    "    if len(subdata)>0:\n",
    "        subdata = pandas.concat(subdata,axis=0).drop_duplicates()\n",
    "        thisdata.append(subdata)\n",
    "    else:\n",
    "        ok = False\n"
   ]
  },
  {
   "cell_type": "code",
   "execution_count": 165,
   "id": "difficult-package",
   "metadata": {},
   "outputs": [
    {
     "data": {
      "text/plain": [
       "(2282, 23)"
      ]
     },
     "execution_count": 165,
     "metadata": {},
     "output_type": "execute_result"
    }
   ],
   "source": [
    "thisdata.append(taxon[taxon['taxonID']==4490])\n",
    "thisdata = pandas.concat(thisdata,axis=0)\n",
    "thisdata = thisdata.drop_duplicates()\n",
    "thisdata = thisdata[~thisdata['canonicalName'].isna()]\n",
    "thisdata = thisdata[thisdata['taxonomicStatus']=='accepted']\n",
    "\n",
    "thisdata.shape"
   ]
  },
  {
   "cell_type": "code",
   "execution_count": 166,
   "id": "relative-pierre",
   "metadata": {},
   "outputs": [],
   "source": [
    "def get_nodes(df):\n",
    "    nodes = []\n",
    "    for i in range(df.shape[0]):\n",
    "        idf = df.iloc[i]\n",
    "        nodes.append({'name':idf['canonicalName'], 'taxon':idf['taxonID'], 'rank':idf['taxonRank']})\n",
    "    return nodes"
   ]
  },
  {
   "cell_type": "code",
   "execution_count": 169,
   "id": "neither-detroit",
   "metadata": {},
   "outputs": [],
   "source": [
    "def get_edges(df):\n",
    "    taxons = df['taxonID'].unique().astype(int)\n",
    "    edges = []\n",
    "    for i in range(df.shape[0]):\n",
    "        idf = df.iloc[i]\n",
    "        parentid = idf['parentNameUsageID'].astype(int)\n",
    "        childid = idf['taxonID'].astype(int)\n",
    "        if parentid in taxons:            \n",
    "            edges.append([childid,parentid])\n",
    "    return edges"
   ]
  },
  {
   "cell_type": "code",
   "execution_count": 170,
   "id": "collectible-circumstances",
   "metadata": {
    "tags": []
   },
   "outputs": [],
   "source": [
    "edges = get_edges(thisdata)\n",
    "nodes = get_nodes(thisdata)"
   ]
  },
  {
   "cell_type": "code",
   "execution_count": 171,
   "id": "changed-probability",
   "metadata": {},
   "outputs": [
    {
     "data": {
      "text/plain": [
       "[{'name': 'Apoica', 'taxon': 1310488, 'rank': 'genus'},\n",
       " {'name': 'Nectarinella', 'taxon': 1311744, 'rank': 'genus'}]"
      ]
     },
     "execution_count": 171,
     "metadata": {},
     "output_type": "execute_result"
    }
   ],
   "source": [
    "nodes[:2]"
   ]
  },
  {
   "cell_type": "code",
   "execution_count": 172,
   "id": "robust-brain",
   "metadata": {},
   "outputs": [
    {
     "data": {
      "text/plain": [
       "[[1310488, 4490], [1311744, 4490]]"
      ]
     },
     "execution_count": 172,
     "metadata": {},
     "output_type": "execute_result"
    }
   ],
   "source": [
    "edges[:2]"
   ]
  },
  {
   "cell_type": "code",
   "execution_count": 173,
   "id": "global-letters",
   "metadata": {},
   "outputs": [],
   "source": [
    "def create_node(tx, name, taxon, rank):\n",
    "    return tx.run(\n",
    "        \"CREATE (a:Entity {name: $name, taxon:$taxon, rank:$rank}) RETURN id(a)\", \n",
    "        name=name, \n",
    "        taxon=taxon, \n",
    "        rank=rank\n",
    "    ).single().value()\n",
    "\n",
    "\n",
    "def create_edge(tx, t1,t2):\n",
    "        tx.run('''MATCH (a: Entity)\n",
    "                MATCH (b: Entity)\n",
    "                WHERE a.taxon = $t1 AND b.taxon =$t2\n",
    "                CREATE (a)-[:HAS_CHILD]->(b)''',\n",
    "                t1=t2, t2=t1)\n",
    "        tx.run('''MATCH (a: Entity)\n",
    "                MATCH (b: Entity)\n",
    "                WHERE a.taxon = $t1 AND b.taxon =$t2\n",
    "                CREATE (a)-[:HAS_PARENT]->(b)''',\n",
    "                t1=t1, t2=t2)            "
   ]
  },
  {
   "cell_type": "code",
   "execution_count": 45,
   "id": "official-advisory",
   "metadata": {},
   "outputs": [],
   "source": [
    "from neo4j import GraphDatabase\n",
    "\n",
    "db_params = {\n",
    "    \"uri\":\"bolt://localhost:7687\",\n",
    "    \"user\":\"neo4j\",\n",
    "    \"password\":\"treeoflife\"\n",
    "}\n",
    "\n",
    "driver = GraphDatabase.driver(\n",
    "    db_params['uri'], \n",
    "    auth=(db_params['user'], \n",
    "    db_params['password'])\n",
    ")\n"
   ]
  },
  {
   "cell_type": "code",
   "execution_count": 177,
   "id": "comfortable-apparel",
   "metadata": {},
   "outputs": [
    {
     "data": {
      "application/vnd.jupyter.widget-view+json": {
       "model_id": "095c6ef50e4a429ea891f2e939dcb448",
       "version_major": 2,
       "version_minor": 0
      },
      "text/plain": [
       "EDGES :   0%|          | 0/2185 [00:00<?, ?it/s]"
      ]
     },
     "metadata": {},
     "output_type": "display_data"
    }
   ],
   "source": [
    "with driver.session() as session:\n",
    "    for node in tqdm(nodes, desc='NODES '):\n",
    "        session.write_transaction(create_node, node['name'], node['taxon'].astype('str'), node['rank'])\n",
    "    for edge in tqdm(edges, desc =\"EDGES \"):\n",
    "        session.write_transaction(create_edge, edge[0].astype(str), edge[1].astype(str))\n",
    "driver.close()"
   ]
  },
  {
   "cell_type": "code",
   "execution_count": 224,
   "id": "sought-charlotte",
   "metadata": {},
   "outputs": [
    {
     "data": {
      "application/vnd.jupyter.widget-view+json": {
       "model_id": "9469e70a94f64b39bd28f53e3948c36a",
       "version_major": 2,
       "version_minor": 0
      },
      "text/plain": [
       "Vernaculars :   0%|          | 0/2282 [00:00<?, ?it/s]"
      ]
     },
     "metadata": {},
     "output_type": "display_data"
    }
   ],
   "source": [
    "def add_lang(tx,en,fr, taxon):\n",
    "    if en:\n",
    "        tx.run('''MATCH (a: Entity {taxon:$tax}) set a.en=$name return a''', name=en, tax=taxon)\n",
    "    if fr:\n",
    "        tx.run('''MATCH (a: Entity {taxon:$tax}) set a.fr=$name return a''', name=fr, tax=taxon)\n",
    "        \n",
    "with driver.session() as session:\n",
    "    for i in tqdm(range(thisdata.shape[0]), desc =\"Vernaculars \"):\n",
    "        idf = thisdata.iloc[i]\n",
    "        taxon = idf['taxonID'].astype('str')\n",
    "        V = vernacular[vernacular['taxonID']==idf['taxonID']]\n",
    "        if ('en' in V['language'].values) or ('fr' in V['language'].values):\n",
    "            fr =  V['vernacularName'][V['language']=='fr'].values[0] if 'fr' in V['language'].values else ''\n",
    "            en =  V['vernacularName'][V['language']=='en'].values[0] if 'en' in V['language'].values else ''\n",
    "            session.write_transaction(add_lang, en,fr,taxon)\n",
    "\n",
    "driver.close()\n",
    "        "
   ]
  },
  {
   "cell_type": "code",
   "execution_count": 234,
   "id": "overhead-working",
   "metadata": {},
   "outputs": [
    {
     "data": {
      "text/plain": [
       "array(['https://zenodo.org/record/2637328/files/figure.png'], dtype=object)"
      ]
     },
     "execution_count": 234,
     "metadata": {},
     "output_type": "execute_result"
    }
   ],
   "source": [
    "multimedia[multimedia['taxonID']==4490]['identifier'].values"
   ]
  },
  {
   "cell_type": "code",
   "execution_count": 237,
   "id": "controlled-masters",
   "metadata": {},
   "outputs": [
    {
     "data": {
      "application/vnd.jupyter.widget-view+json": {
       "model_id": "41d47668f04740049ce5b8ba5da51bba",
       "version_major": 2,
       "version_minor": 0
      },
      "text/plain": [
       "Vernaculars :   0%|          | 0/2282 [00:00<?, ?it/s]"
      ]
     },
     "metadata": {},
     "output_type": "display_data"
    }
   ],
   "source": [
    "def add_pic(tx,pic, taxon):\n",
    "    tx.run('''MATCH (a: Entity {taxon:$tax}) set a.picture=$pic return a''', pic=pic, tax=taxon)\n",
    "        \n",
    "with driver.session() as session:\n",
    "    for i in tqdm(range(thisdata.shape[0]), desc =\"Vernaculars \"):\n",
    "        idf = thisdata.iloc[i]\n",
    "        taxon = idf['taxonID'].astype('str')\n",
    "        V = multimedia[multimedia['taxonID']==idf['taxonID']]\n",
    "        if V.shape[0]>0:\n",
    "            pic = V['identifier'].values[0]\n",
    "            session.write_transaction(add_pic, pic,taxon)\n",
    "\n",
    "driver.close()"
   ]
  },
  {
   "cell_type": "code",
   "execution_count": 245,
   "id": "divided-accessory",
   "metadata": {},
   "outputs": [
    {
     "data": {
      "text/html": [
       "<div>\n",
       "<style scoped>\n",
       "    .dataframe tbody tr th:only-of-type {\n",
       "        vertical-align: middle;\n",
       "    }\n",
       "\n",
       "    .dataframe tbody tr th {\n",
       "        vertical-align: top;\n",
       "    }\n",
       "\n",
       "    .dataframe thead th {\n",
       "        text-align: right;\n",
       "    }\n",
       "</style>\n",
       "<table border=\"1\" class=\"dataframe\">\n",
       "  <thead>\n",
       "    <tr style=\"text-align: right;\">\n",
       "      <th></th>\n",
       "      <th>taxonID</th>\n",
       "      <th>locationID</th>\n",
       "      <th>locality</th>\n",
       "      <th>country</th>\n",
       "      <th>countryCode</th>\n",
       "      <th>locationRemarks</th>\n",
       "      <th>establishmentMeans</th>\n",
       "      <th>lifeStage</th>\n",
       "      <th>occurrenceStatus</th>\n",
       "      <th>threatStatus</th>\n",
       "      <th>source</th>\n",
       "    </tr>\n",
       "  </thead>\n",
       "  <tbody>\n",
       "    <tr>\n",
       "      <th>23029</th>\n",
       "      <td>1329840</td>\n",
       "      <td>ISO:NO</td>\n",
       "      <td>NaN</td>\n",
       "      <td>Norway</td>\n",
       "      <td>NO</td>\n",
       "      <td>NaN</td>\n",
       "      <td>NaN</td>\n",
       "      <td>NaN</td>\n",
       "      <td>NaN</td>\n",
       "      <td>NaN</td>\n",
       "      <td>Norwegian Red List 2015</td>\n",
       "    </tr>\n",
       "    <tr>\n",
       "      <th>24731</th>\n",
       "      <td>1310164</td>\n",
       "      <td>CO:70</td>\n",
       "      <td>Bosque | Agro-ecosistema</td>\n",
       "      <td>NaN</td>\n",
       "      <td>NaN</td>\n",
       "      <td>NaN</td>\n",
       "      <td>NaN</td>\n",
       "      <td>NaN</td>\n",
       "      <td>NaN</td>\n",
       "      <td>NaN</td>\n",
       "      <td>Listado de avispas sociales (Vespidae: Polisti...</td>\n",
       "    </tr>\n",
       "    <tr>\n",
       "      <th>24732</th>\n",
       "      <td>1310493</td>\n",
       "      <td>CO:70</td>\n",
       "      <td>Bosque</td>\n",
       "      <td>NaN</td>\n",
       "      <td>NaN</td>\n",
       "      <td>NaN</td>\n",
       "      <td>NaN</td>\n",
       "      <td>NaN</td>\n",
       "      <td>NaN</td>\n",
       "      <td>NaN</td>\n",
       "      <td>Listado de avispas sociales (Vespidae: Polisti...</td>\n",
       "    </tr>\n",
       "    <tr>\n",
       "      <th>24735</th>\n",
       "      <td>1309871</td>\n",
       "      <td>CO:70</td>\n",
       "      <td>Bosque</td>\n",
       "      <td>NaN</td>\n",
       "      <td>NaN</td>\n",
       "      <td>NaN</td>\n",
       "      <td>NaN</td>\n",
       "      <td>NaN</td>\n",
       "      <td>NaN</td>\n",
       "      <td>NaN</td>\n",
       "      <td>Listado de avispas sociales (Vespidae: Polisti...</td>\n",
       "    </tr>\n",
       "    <tr>\n",
       "      <th>24736</th>\n",
       "      <td>1310157</td>\n",
       "      <td>CO:70</td>\n",
       "      <td>Bosque | Agro-ecosistema | Zona urbana</td>\n",
       "      <td>NaN</td>\n",
       "      <td>NaN</td>\n",
       "      <td>NaN</td>\n",
       "      <td>NaN</td>\n",
       "      <td>NaN</td>\n",
       "      <td>NaN</td>\n",
       "      <td>NaN</td>\n",
       "      <td>Listado de avispas sociales (Vespidae: Polisti...</td>\n",
       "    </tr>\n",
       "    <tr>\n",
       "      <th>...</th>\n",
       "      <td>...</td>\n",
       "      <td>...</td>\n",
       "      <td>...</td>\n",
       "      <td>...</td>\n",
       "      <td>...</td>\n",
       "      <td>...</td>\n",
       "      <td>...</td>\n",
       "      <td>...</td>\n",
       "      <td>...</td>\n",
       "      <td>...</td>\n",
       "      <td>...</td>\n",
       "    </tr>\n",
       "    <tr>\n",
       "      <th>2552767</th>\n",
       "      <td>1311824</td>\n",
       "      <td>ISO:NO</td>\n",
       "      <td>NaN</td>\n",
       "      <td>Norway</td>\n",
       "      <td>NO</td>\n",
       "      <td>NaN</td>\n",
       "      <td>NaN</td>\n",
       "      <td>NaN</td>\n",
       "      <td>present</td>\n",
       "      <td>NaN</td>\n",
       "      <td>Artsnavnebasen</td>\n",
       "    </tr>\n",
       "    <tr>\n",
       "      <th>2552768</th>\n",
       "      <td>1311795</td>\n",
       "      <td>ISO:NO</td>\n",
       "      <td>NaN</td>\n",
       "      <td>Norway</td>\n",
       "      <td>NO</td>\n",
       "      <td>NaN</td>\n",
       "      <td>NaN</td>\n",
       "      <td>NaN</td>\n",
       "      <td>present</td>\n",
       "      <td>NaN</td>\n",
       "      <td>Artsnavnebasen</td>\n",
       "    </tr>\n",
       "    <tr>\n",
       "      <th>2552770</th>\n",
       "      <td>1311816</td>\n",
       "      <td>ISO:NO</td>\n",
       "      <td>NaN</td>\n",
       "      <td>Norway</td>\n",
       "      <td>NO</td>\n",
       "      <td>NaN</td>\n",
       "      <td>NaN</td>\n",
       "      <td>NaN</td>\n",
       "      <td>present</td>\n",
       "      <td>NaN</td>\n",
       "      <td>Artsnavnebasen</td>\n",
       "    </tr>\n",
       "    <tr>\n",
       "      <th>2552771</th>\n",
       "      <td>1311676</td>\n",
       "      <td>ISO:NO</td>\n",
       "      <td>NaN</td>\n",
       "      <td>Norway</td>\n",
       "      <td>NO</td>\n",
       "      <td>NaN</td>\n",
       "      <td>NaN</td>\n",
       "      <td>NaN</td>\n",
       "      <td>present</td>\n",
       "      <td>NaN</td>\n",
       "      <td>Artsnavnebasen</td>\n",
       "    </tr>\n",
       "    <tr>\n",
       "      <th>2553108</th>\n",
       "      <td>1311477</td>\n",
       "      <td>ISO:NO</td>\n",
       "      <td>NaN</td>\n",
       "      <td>Norway</td>\n",
       "      <td>NO</td>\n",
       "      <td>NaN</td>\n",
       "      <td>NaN</td>\n",
       "      <td>NaN</td>\n",
       "      <td>NaN</td>\n",
       "      <td>NaN</td>\n",
       "      <td>Artsnavnebasen</td>\n",
       "    </tr>\n",
       "  </tbody>\n",
       "</table>\n",
       "<p>126 rows × 11 columns</p>\n",
       "</div>"
      ],
      "text/plain": [
       "         taxonID locationID                                locality country  \\\n",
       "23029    1329840     ISO:NO                                     NaN  Norway   \n",
       "24731    1310164      CO:70                Bosque | Agro-ecosistema     NaN   \n",
       "24732    1310493      CO:70                                  Bosque     NaN   \n",
       "24735    1309871      CO:70                                  Bosque     NaN   \n",
       "24736    1310157      CO:70  Bosque | Agro-ecosistema | Zona urbana     NaN   \n",
       "...          ...        ...                                     ...     ...   \n",
       "2552767  1311824     ISO:NO                                     NaN  Norway   \n",
       "2552768  1311795     ISO:NO                                     NaN  Norway   \n",
       "2552770  1311816     ISO:NO                                     NaN  Norway   \n",
       "2552771  1311676     ISO:NO                                     NaN  Norway   \n",
       "2553108  1311477     ISO:NO                                     NaN  Norway   \n",
       "\n",
       "        countryCode locationRemarks establishmentMeans  lifeStage  \\\n",
       "23029            NO             NaN                NaN        NaN   \n",
       "24731           NaN             NaN                NaN        NaN   \n",
       "24732           NaN             NaN                NaN        NaN   \n",
       "24735           NaN             NaN                NaN        NaN   \n",
       "24736           NaN             NaN                NaN        NaN   \n",
       "...             ...             ...                ...        ...   \n",
       "2552767          NO             NaN                NaN        NaN   \n",
       "2552768          NO             NaN                NaN        NaN   \n",
       "2552770          NO             NaN                NaN        NaN   \n",
       "2552771          NO             NaN                NaN        NaN   \n",
       "2553108          NO             NaN                NaN        NaN   \n",
       "\n",
       "        occurrenceStatus threatStatus  \\\n",
       "23029                NaN          NaN   \n",
       "24731                NaN          NaN   \n",
       "24732                NaN          NaN   \n",
       "24735                NaN          NaN   \n",
       "24736                NaN          NaN   \n",
       "...                  ...          ...   \n",
       "2552767          present          NaN   \n",
       "2552768          present          NaN   \n",
       "2552770          present          NaN   \n",
       "2552771          present          NaN   \n",
       "2553108              NaN          NaN   \n",
       "\n",
       "                                                    source  \n",
       "23029                              Norwegian Red List 2015  \n",
       "24731    Listado de avispas sociales (Vespidae: Polisti...  \n",
       "24732    Listado de avispas sociales (Vespidae: Polisti...  \n",
       "24735    Listado de avispas sociales (Vespidae: Polisti...  \n",
       "24736    Listado de avispas sociales (Vespidae: Polisti...  \n",
       "...                                                    ...  \n",
       "2552767                                     Artsnavnebasen  \n",
       "2552768                                     Artsnavnebasen  \n",
       "2552770                                     Artsnavnebasen  \n",
       "2552771                                     Artsnavnebasen  \n",
       "2553108                                     Artsnavnebasen  \n",
       "\n",
       "[126 rows x 11 columns]"
      ]
     },
     "execution_count": 245,
     "metadata": {},
     "output_type": "execute_result"
    }
   ],
   "source": [
    "distribution[distribution['taxonID'].isin(thisdata['taxonID'].unique())]"
   ]
  },
  {
   "cell_type": "markdown",
   "id": "unlimited-disability",
   "metadata": {},
   "source": [
    "## Papers"
   ]
  },
  {
   "cell_type": "code",
   "execution_count": 27,
   "id": "nominated-antigua",
   "metadata": {},
   "outputs": [],
   "source": [
    "import sys\n",
    "import os\n",
    "import gzip\n",
    "import json\n",
    "import pandas\n",
    "loc = r\"\\\\wsl$\\Ubuntu-20.04\\home\\niki\\Data\\ceebios\"\n",
    "sys.path.insert(0, loc)"
   ]
  },
  {
   "cell_type": "code",
   "execution_count": 5,
   "id": "nasty-laptop",
   "metadata": {},
   "outputs": [],
   "source": [
    "gz = \"s2-corpus-000.gz\""
   ]
  },
  {
   "cell_type": "code",
   "execution_count": 10,
   "id": "convinced-scroll",
   "metadata": {},
   "outputs": [],
   "source": [
    "f = gzip.open(os.path.join(loc,gz),'r')\n",
    "content = f.read()"
   ]
  },
  {
   "cell_type": "code",
   "execution_count": 18,
   "id": "supposed-jason",
   "metadata": {},
   "outputs": [],
   "source": [
    "D = content.decode('utf-8')"
   ]
  },
  {
   "cell_type": "code",
   "execution_count": 42,
   "id": "important-professional",
   "metadata": {},
   "outputs": [],
   "source": [
    "Js = []\n",
    "for J in D.split('\\n'):\n",
    "    if J:\n",
    "        Js.append(json.loads(J))"
   ]
  },
  {
   "cell_type": "code",
   "execution_count": 43,
   "id": "adequate-marker",
   "metadata": {},
   "outputs": [],
   "source": [
    "articles = pandas.DataFrame(Js)"
   ]
  },
  {
   "cell_type": "code",
   "execution_count": 44,
   "id": "driven-blink",
   "metadata": {},
   "outputs": [
    {
     "data": {
      "text/html": [
       "<div>\n",
       "<style scoped>\n",
       "    .dataframe tbody tr th:only-of-type {\n",
       "        vertical-align: middle;\n",
       "    }\n",
       "\n",
       "    .dataframe tbody tr th {\n",
       "        vertical-align: top;\n",
       "    }\n",
       "\n",
       "    .dataframe thead th {\n",
       "        text-align: right;\n",
       "    }\n",
       "</style>\n",
       "<table border=\"1\" class=\"dataframe\">\n",
       "  <thead>\n",
       "    <tr style=\"text-align: right;\">\n",
       "      <th></th>\n",
       "      <th>id</th>\n",
       "      <th>title</th>\n",
       "      <th>paperAbstract</th>\n",
       "      <th>authors</th>\n",
       "      <th>inCitations</th>\n",
       "      <th>outCitations</th>\n",
       "      <th>year</th>\n",
       "      <th>s2Url</th>\n",
       "      <th>sources</th>\n",
       "      <th>pdfUrls</th>\n",
       "      <th>...</th>\n",
       "      <th>journalName</th>\n",
       "      <th>journalVolume</th>\n",
       "      <th>journalPages</th>\n",
       "      <th>doi</th>\n",
       "      <th>doiUrl</th>\n",
       "      <th>pmid</th>\n",
       "      <th>fieldsOfStudy</th>\n",
       "      <th>magId</th>\n",
       "      <th>s2PdfUrl</th>\n",
       "      <th>entities</th>\n",
       "    </tr>\n",
       "  </thead>\n",
       "  <tbody>\n",
       "    <tr>\n",
       "      <th>0</th>\n",
       "      <td>33b237709dbd53953a750355115b57ccb6690da1</td>\n",
       "      <td>USING PHOTO IMAGES TO DETERMINE THE GEOMETRIC ...</td>\n",
       "      <td></td>\n",
       "      <td>[{'name': 'E  Popov', 'ids': ['144112922']}, {...</td>\n",
       "      <td>[]</td>\n",
       "      <td>[]</td>\n",
       "      <td>2019.0</td>\n",
       "      <td>https://semanticscholar.org/paper/33b237709dbd...</td>\n",
       "      <td>[]</td>\n",
       "      <td>[]</td>\n",
       "      <td>...</td>\n",
       "      <td></td>\n",
       "      <td>19</td>\n",
       "      <td>45-54</td>\n",
       "      <td>10.14529/build190307</td>\n",
       "      <td>https://doi.org/10.14529/build190307</td>\n",
       "      <td></td>\n",
       "      <td>[Computer Science]</td>\n",
       "      <td>3000193832</td>\n",
       "      <td></td>\n",
       "      <td>[]</td>\n",
       "    </tr>\n",
       "    <tr>\n",
       "      <th>1</th>\n",
       "      <td>062e9c7579adc73129e1198671d05905f07d4ab5</td>\n",
       "      <td>Clinical or Industrial Pharmacy? Case Studies ...</td>\n",
       "      <td>Automated medication dispensing systems for ho...</td>\n",
       "      <td>[{'name': 'J  Novek', 'ids': ['47586327']}]</td>\n",
       "      <td>[59a8feb7cfbc50c64152b116dba1dad3412cd104, 799...</td>\n",
       "      <td>[1723e0346fc1de5bb835c71c66388c1c128a1abe, ddc...</td>\n",
       "      <td>1998.0</td>\n",
       "      <td>https://semanticscholar.org/paper/062e9c7579ad...</td>\n",
       "      <td>[Medline]</td>\n",
       "      <td>[]</td>\n",
       "      <td>...</td>\n",
       "      <td>International Journal of Health Services</td>\n",
       "      <td>28</td>\n",
       "      <td>445 - 465</td>\n",
       "      <td>10.2190/W2BT-FGXQ-QL0G-YNL9</td>\n",
       "      <td>https://doi.org/10.2190/W2BT-FGXQ-QL0G-YNL9</td>\n",
       "      <td>9711475</td>\n",
       "      <td>[Medicine]</td>\n",
       "      <td>1988383910</td>\n",
       "      <td></td>\n",
       "      <td>[]</td>\n",
       "    </tr>\n",
       "    <tr>\n",
       "      <th>2</th>\n",
       "      <td>771723e7e2d9ed97d09442086553b726f0dd6657</td>\n",
       "      <td>Noncoronary and coronary atherothrombotic plaq...</td>\n",
       "      <td>In the future, the use of imaging methods to q...</td>\n",
       "      <td>[{'name': 'Zahi A Fayad', 'ids': ['1886137']}]</td>\n",
       "      <td>[1b595ab60dbdaad1a7096859340bb515eb5d2476, 362...</td>\n",
       "      <td>[e3718ee0bafe60b684e71e72345ce0064cb5046e, 8ee...</td>\n",
       "      <td>2002.0</td>\n",
       "      <td>https://semanticscholar.org/paper/771723e7e2d9...</td>\n",
       "      <td>[Medline]</td>\n",
       "      <td>[]</td>\n",
       "      <td>...</td>\n",
       "      <td>Neuroimaging clinics of North America</td>\n",
       "      <td>12 3</td>\n",
       "      <td>\\n          461-71\\n</td>\n",
       "      <td>10.1016/S1052-5149(02)00023-0</td>\n",
       "      <td>https://doi.org/10.1016/S1052-5149%2802%2900023-0</td>\n",
       "      <td>12486833</td>\n",
       "      <td>[Medicine]</td>\n",
       "      <td>1983175018</td>\n",
       "      <td></td>\n",
       "      <td>[]</td>\n",
       "    </tr>\n",
       "    <tr>\n",
       "      <th>3</th>\n",
       "      <td>263f70167ba7def67a2843ffc30c80a0b9b3f617</td>\n",
       "      <td>국어 명사구 접속의 연구</td>\n",
       "      <td></td>\n",
       "      <td>[{'name': '최재희', 'ids': ['115087709']}]</td>\n",
       "      <td>[]</td>\n",
       "      <td>[]</td>\n",
       "      <td>1985.0</td>\n",
       "      <td>https://semanticscholar.org/paper/263f70167ba7...</td>\n",
       "      <td>[]</td>\n",
       "      <td>[]</td>\n",
       "      <td>...</td>\n",
       "      <td></td>\n",
       "      <td></td>\n",
       "      <td></td>\n",
       "      <td></td>\n",
       "      <td></td>\n",
       "      <td></td>\n",
       "      <td>[]</td>\n",
       "      <td>2291560164</td>\n",
       "      <td></td>\n",
       "      <td>[]</td>\n",
       "    </tr>\n",
       "    <tr>\n",
       "      <th>4</th>\n",
       "      <td>9ea1148fa657103879ef7ed9a5b716be48ee13a4</td>\n",
       "      <td>Who'll Take My Place : When I'm Gone</td>\n",
       "      <td></td>\n",
       "      <td>[{'name': 'Billy  Fazioli', 'ids': ['146257415...</td>\n",
       "      <td>[]</td>\n",
       "      <td>[]</td>\n",
       "      <td>2018.0</td>\n",
       "      <td>https://semanticscholar.org/paper/9ea1148fa657...</td>\n",
       "      <td>[]</td>\n",
       "      <td>[https://digitalcommons.library.umaine.edu/cgi...</td>\n",
       "      <td>...</td>\n",
       "      <td></td>\n",
       "      <td></td>\n",
       "      <td></td>\n",
       "      <td></td>\n",
       "      <td></td>\n",
       "      <td></td>\n",
       "      <td>[Art]</td>\n",
       "      <td>1489188979</td>\n",
       "      <td></td>\n",
       "      <td>[]</td>\n",
       "    </tr>\n",
       "  </tbody>\n",
       "</table>\n",
       "<p>5 rows × 21 columns</p>\n",
       "</div>"
      ],
      "text/plain": [
       "                                         id  \\\n",
       "0  33b237709dbd53953a750355115b57ccb6690da1   \n",
       "1  062e9c7579adc73129e1198671d05905f07d4ab5   \n",
       "2  771723e7e2d9ed97d09442086553b726f0dd6657   \n",
       "3  263f70167ba7def67a2843ffc30c80a0b9b3f617   \n",
       "4  9ea1148fa657103879ef7ed9a5b716be48ee13a4   \n",
       "\n",
       "                                               title  \\\n",
       "0  USING PHOTO IMAGES TO DETERMINE THE GEOMETRIC ...   \n",
       "1  Clinical or Industrial Pharmacy? Case Studies ...   \n",
       "2  Noncoronary and coronary atherothrombotic plaq...   \n",
       "3                                      국어 명사구 접속의 연구   \n",
       "4               Who'll Take My Place : When I'm Gone   \n",
       "\n",
       "                                       paperAbstract  \\\n",
       "0                                                      \n",
       "1  Automated medication dispensing systems for ho...   \n",
       "2  In the future, the use of imaging methods to q...   \n",
       "3                                                      \n",
       "4                                                      \n",
       "\n",
       "                                             authors  \\\n",
       "0  [{'name': 'E  Popov', 'ids': ['144112922']}, {...   \n",
       "1        [{'name': 'J  Novek', 'ids': ['47586327']}]   \n",
       "2     [{'name': 'Zahi A Fayad', 'ids': ['1886137']}]   \n",
       "3            [{'name': '최재희', 'ids': ['115087709']}]   \n",
       "4  [{'name': 'Billy  Fazioli', 'ids': ['146257415...   \n",
       "\n",
       "                                         inCitations  \\\n",
       "0                                                 []   \n",
       "1  [59a8feb7cfbc50c64152b116dba1dad3412cd104, 799...   \n",
       "2  [1b595ab60dbdaad1a7096859340bb515eb5d2476, 362...   \n",
       "3                                                 []   \n",
       "4                                                 []   \n",
       "\n",
       "                                        outCitations    year  \\\n",
       "0                                                 []  2019.0   \n",
       "1  [1723e0346fc1de5bb835c71c66388c1c128a1abe, ddc...  1998.0   \n",
       "2  [e3718ee0bafe60b684e71e72345ce0064cb5046e, 8ee...  2002.0   \n",
       "3                                                 []  1985.0   \n",
       "4                                                 []  2018.0   \n",
       "\n",
       "                                               s2Url    sources  \\\n",
       "0  https://semanticscholar.org/paper/33b237709dbd...         []   \n",
       "1  https://semanticscholar.org/paper/062e9c7579ad...  [Medline]   \n",
       "2  https://semanticscholar.org/paper/771723e7e2d9...  [Medline]   \n",
       "3  https://semanticscholar.org/paper/263f70167ba7...         []   \n",
       "4  https://semanticscholar.org/paper/9ea1148fa657...         []   \n",
       "\n",
       "                                             pdfUrls  ...  \\\n",
       "0                                                 []  ...   \n",
       "1                                                 []  ...   \n",
       "2                                                 []  ...   \n",
       "3                                                 []  ...   \n",
       "4  [https://digitalcommons.library.umaine.edu/cgi...  ...   \n",
       "\n",
       "                                journalName journalVolume  \\\n",
       "0                                                      19   \n",
       "1  International Journal of Health Services            28   \n",
       "2     Neuroimaging clinics of North America          12 3   \n",
       "3                                                           \n",
       "4                                                           \n",
       "\n",
       "                   journalPages                            doi  \\\n",
       "0                         45-54           10.14529/build190307   \n",
       "1                     445 - 465    10.2190/W2BT-FGXQ-QL0G-YNL9   \n",
       "2  \\n          461-71\\n          10.1016/S1052-5149(02)00023-0   \n",
       "3                                                                \n",
       "4                                                                \n",
       "\n",
       "                                              doiUrl      pmid  \\\n",
       "0               https://doi.org/10.14529/build190307             \n",
       "1        https://doi.org/10.2190/W2BT-FGXQ-QL0G-YNL9   9711475   \n",
       "2  https://doi.org/10.1016/S1052-5149%2802%2900023-0  12486833   \n",
       "3                                                                \n",
       "4                                                                \n",
       "\n",
       "        fieldsOfStudy       magId s2PdfUrl entities  \n",
       "0  [Computer Science]  3000193832                []  \n",
       "1          [Medicine]  1988383910                []  \n",
       "2          [Medicine]  1983175018                []  \n",
       "3                  []  2291560164                []  \n",
       "4               [Art]  1489188979                []  \n",
       "\n",
       "[5 rows x 21 columns]"
      ]
     },
     "execution_count": 44,
     "metadata": {},
     "output_type": "execute_result"
    }
   ],
   "source": [
    "articles.head()"
   ]
  },
  {
   "cell_type": "code",
   "execution_count": 58,
   "id": "right-viewer",
   "metadata": {},
   "outputs": [],
   "source": [
    "def create_article(tx,id,title,abstract,doiUrl,s2Url):\n",
    "    return tx.run(\n",
    "        \"CREATE (a:Article {id: $id, title:$title, abstract:$abstract, doiUrl:$doiUrl, s2Url:$s2Url}) RETURN id(a)\", \n",
    "        id=id, \n",
    "        title=title, \n",
    "        abstract=abstract,\n",
    "        doiUrl=doiUrl, \n",
    "        s2Url=s2Url\n",
    "    ).single().value()\n",
    "\n"
   ]
  },
  {
   "cell_type": "code",
   "execution_count": 59,
   "id": "daily-celtic",
   "metadata": {},
   "outputs": [
    {
     "data": {
      "application/vnd.jupyter.widget-view+json": {
       "model_id": "e3a9c3dada3848f8880019b2ae6c8860",
       "version_major": 2,
       "version_minor": 0
      },
      "text/plain": [
       "Articles :   0%|          | 0/31838 [00:00<?, ?it/s]"
      ]
     },
     "metadata": {},
     "output_type": "display_data"
    }
   ],
   "source": [
    "with driver.session() as session:\n",
    "    for i in tqdm(range(len(Js)), desc =\"Articles \"):\n",
    "        id = Js[i].get('id')\n",
    "        title = Js[i].get('title')\n",
    "        abstract = Js[i].get('paperAbstract')\n",
    "        doiUrl = Js[i].get('doiUrl')\n",
    "        s2Url = Js[i].get('s2Url')\n",
    "        if title and abstract:\n",
    "            session.write_transaction(create_article, id,title,abstract,doiUrl,s2Url)\n",
    "\n",
    "driver.close()"
   ]
  },
  {
   "cell_type": "code",
   "execution_count": null,
   "id": "classified-component",
   "metadata": {},
   "outputs": [],
   "source": []
  }
 ],
 "metadata": {
  "kernelspec": {
   "display_name": "Python 3",
   "language": "python",
   "name": "python3"
  },
  "language_info": {
   "codemirror_mode": {
    "name": "ipython",
    "version": 3
   },
   "file_extension": ".py",
   "mimetype": "text/x-python",
   "name": "python",
   "nbconvert_exporter": "python",
   "pygments_lexer": "ipython3",
   "version": "3.7.6"
  }
 },
 "nbformat": 4,
 "nbformat_minor": 5
}
